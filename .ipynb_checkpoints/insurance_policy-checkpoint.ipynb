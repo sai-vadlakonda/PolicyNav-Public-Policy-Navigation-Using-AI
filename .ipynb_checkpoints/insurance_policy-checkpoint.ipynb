{
 "cells": [
  {
   "cell_type": "code",
   "execution_count": 9,
   "id": "a23bed63-4051-425d-8807-8b63e3f76eac",
   "metadata": {},
   "outputs": [
    {
     "name": "stdout",
     "output_type": "stream",
     "text": [
      "✅ Data prepared: 148448 train, 37112 test.\n"
     ]
    }
   ],
   "source": [
    "import os\n",
    "import random\n",
    "import pandas as pd\n",
    "import numpy as np\n",
    "from sklearn.model_selection import train_test_split\n",
    "\n",
    "RANDOM_SEED = 42\n",
    "random.seed(RANDOM_SEED)\n",
    "np.random.seed(RANDOM_SEED)\n",
    "\n",
    "CSV_PATH = \"Kaggle.csv\"\n",
    "TRAIN_PATH = \"train_insurance.csv\"\n",
    "TEST_PATH = \"test_insurance.csv\"\n",
    "\n",
    "# --- Load dataset (semicolon delimited) ---\n",
    "df = pd.read_csv(CSV_PATH, sep=\";\", encoding=\"utf-8\")\n",
    "\n",
    "# --- Preprocess ---\n",
    "def preprocess(df):\n",
    "    df = df.copy()\n",
    "    \n",
    "    # Normalize column names (strip spaces, uppercase)\n",
    "    df.columns = df.columns.str.strip().str.upper()\n",
    "    \n",
    "    candidate_cols = [\n",
    "        \"POLICY TYPE 1\", \"POLICY TYPE 2\", \"POLICY TYPE 3\",\n",
    "        \"PAYMENT MODE\", \"POLICY STATUS\", \"BENEFIT\",\n",
    "        \"NON LAPSE GUARANTEED\", \"PREMIUM\", \"INITIAL BENEFIT\",\n",
    "        \"SEX\", \"ENTRY AGE\"\n",
    "    ]\n",
    "    \n",
    "    # Keep only the ones that exist\n",
    "    text_parts = [df[c].astype(str) for c in candidate_cols if c in df.columns]\n",
    "    \n",
    "    if text_parts:\n",
    "        df[\"TEXT_FOR_NLP\"] = [\" \".join(parts) for parts in zip(*text_parts)]\n",
    "        df[\"TEXT_FOR_NLP\"] = df[\"TEXT_FOR_NLP\"].str.lower()\n",
    "    else:\n",
    "        df[\"TEXT_FOR_NLP\"] = \"\"\n",
    "    \n",
    "    return df\n",
    "\n",
    "# Preprocess dataset\n",
    "df = preprocess(df)\n",
    "\n",
    "# Train/test split\n",
    "train_df, test_df = train_test_split(df, test_size=0.2, random_state=RANDOM_SEED, shuffle=True)\n",
    "train_df.to_csv(TRAIN_PATH, index=False)\n",
    "test_df.to_csv(TEST_PATH, index=False)\n",
    "\n",
    "print(f\"✅ Data prepared: {len(train_df)} train, {len(test_df)} test.\")\n"
   ]
  },
  {
   "cell_type": "code",
   "execution_count": 11,
   "id": "ddf50f82-a3aa-4595-9b03-5a44ffd5fd14",
   "metadata": {},
   "outputs": [
    {
     "name": "stdout",
     "output_type": "stream",
     "text": [
      "✅ Model trained and saved to insurance_vectorizer.pkl and insurance_tfidf_matrix.pkl\n"
     ]
    }
   ],
   "source": [
    "# --- Train TF-IDF ---\n",
    "import joblib\n",
    "from sklearn.feature_extraction.text import TfidfVectorizer\n",
    "\n",
    "MODEL_PATH = \"insurance_vectorizer.pkl\"\n",
    "MATRIX_PATH = \"insurance_tfidf_matrix.pkl\"\n",
    "\n",
    "train_df = pd.read_csv(TRAIN_PATH)\n",
    "full_df = pd.read_csv(CSV_PATH, sep=\";\", encoding=\"utf-8\")\n",
    "full_df = preprocess(full_df)\n",
    "\n",
    "vectorizer = TfidfVectorizer(max_features=5000, ngram_range=(1, 2))\n",
    "vectorizer.fit(train_df[\"TEXT_FOR_NLP\"])   # <-- fixed\n",
    "\n",
    "# Transform full data\n",
    "tfidf_matrix = vectorizer.transform(full_df[\"TEXT_FOR_NLP\"])   # <-- fixed\n",
    "\n",
    "# Save model + matrix\n",
    "joblib.dump(vectorizer, MODEL_PATH)\n",
    "joblib.dump({\"matrix\": tfidf_matrix, \"df\": full_df}, MATRIX_PATH)\n",
    "\n",
    "print(f\"✅ Model trained and saved to {MODEL_PATH} and {MATRIX_PATH}\")\n"
   ]
  },
  {
   "cell_type": "code",
   "execution_count": 13,
   "id": "bd349618-46ea-4305-aaad-55f05744807b",
   "metadata": {},
   "outputs": [
    {
     "name": "stdout",
     "output_type": "stream",
     "text": [
      "\n",
      "🔎 Query: annual premium policy with inforce status\n",
      "\n",
      "📌 Policy Row 182734 | Score=0.344\n",
      "Age: 40 | Sex: M | Status: Inforce | Premium:  2 \n",
      "Snippet: 13 59 a single premium inforce 5,000 no nlg 2 3533.3526 m 40\n",
      "\n",
      "📌 Policy Row 183279 | Score=0.344\n",
      "Age: 40 | Sex: M | Status: Inforce | Premium:  2 \n",
      "Snippet: 13 59 a single premium inforce 6,000 no nlg 2 5252.2296 m 40\n",
      "\n",
      "📌 Policy Row 182542 | Score=0.344\n",
      "Age: 40 | Sex: M | Status: Inforce | Premium:  2 \n",
      "Snippet: 13 59 a single premium inforce 6,000 no nlg 2 3250.7236 m 40\n"
     ]
    }
   ],
   "source": [
    "# --- Query function ---\n",
    "import textwrap\n",
    "from sklearn.metrics.pairwise import cosine_similarity\n",
    "\n",
    "vectorizer = joblib.load(MODEL_PATH)\n",
    "data = joblib.load(MATRIX_PATH)\n",
    "tfidf_matrix = data[\"matrix\"]\n",
    "df = data[\"df\"]\n",
    "\n",
    "# Normalize df column names to uppercase (safety)\n",
    "df.columns = df.columns.str.strip().str.upper()\n",
    "\n",
    "def answer_query(query, top_k=3):\n",
    "    query_vec = vectorizer.transform([query.lower()])\n",
    "    sims = cosine_similarity(query_vec, tfidf_matrix).flatten()\n",
    "    top_idx = sims.argsort()[::-1][:top_k]\n",
    "\n",
    "    print(f\"\\n🔎 Query: {query}\")\n",
    "    for idx in top_idx:\n",
    "        row = df.iloc[idx]\n",
    "        snippet = textwrap.shorten(row[\"TEXT_FOR_NLP\"], width=200, placeholder=\"...\")\n",
    "        premium_val = row[\"PREMIUM\"] if \"PREMIUM\" in df.columns else \"N/A\"\n",
    "        print(f\"\\n📌 Policy Row {idx} | Score={sims[idx]:.3f}\")\n",
    "        print(f\"Age: {row.get('ENTRY AGE','?')} | Sex: {row.get('SEX','?')} | Status: {row.get('POLICY STATUS','?')} | Premium: {premium_val}\")\n",
    "        print(f\"Snippet: {snippet}\")\n",
    "\n",
    "# --- Example query ---\n",
    "answer_query(\"annual premium policy with inforce status\", top_k=3)\n"
   ]
  },
  {
   "cell_type": "code",
   "execution_count": null,
   "id": "1ed62604-4c18-4d25-8aa6-cdbed735b9d5",
   "metadata": {},
   "outputs": [],
   "source": []
  }
 ],
 "metadata": {
  "kernelspec": {
   "display_name": "Python 3 (ipykernel)",
   "language": "python",
   "name": "python3"
  },
  "language_info": {
   "codemirror_mode": {
    "name": "ipython",
    "version": 3
   },
   "file_extension": ".py",
   "mimetype": "text/x-python",
   "name": "python",
   "nbconvert_exporter": "python",
   "pygments_lexer": "ipython3",
   "version": "3.12.10"
  }
 },
 "nbformat": 4,
 "nbformat_minor": 5
}
